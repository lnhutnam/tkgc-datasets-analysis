{
 "cells": [
  {
   "cell_type": "code",
   "execution_count": 1,
   "metadata": {},
   "outputs": [],
   "source": [
    "import pandas as pd"
   ]
  },
  {
   "cell_type": "code",
   "execution_count": 4,
   "metadata": {},
   "outputs": [
    {
     "data": {
      "text/html": [
       "<div>\n",
       "<style scoped>\n",
       "    .dataframe tbody tr th:only-of-type {\n",
       "        vertical-align: middle;\n",
       "    }\n",
       "\n",
       "    .dataframe tbody tr th {\n",
       "        vertical-align: top;\n",
       "    }\n",
       "\n",
       "    .dataframe thead th {\n",
       "        text-align: right;\n",
       "    }\n",
       "</style>\n",
       "<table border=\"1\" class=\"dataframe\">\n",
       "  <thead>\n",
       "    <tr style=\"text-align: right;\">\n",
       "      <th></th>\n",
       "      <th>head</th>\n",
       "      <th>rel</th>\n",
       "      <th>tail</th>\n",
       "      <th>ts</th>\n",
       "    </tr>\n",
       "  </thead>\n",
       "  <tbody>\n",
       "    <tr>\n",
       "      <th>0</th>\n",
       "      <td>Ministry (Afghanistan)</td>\n",
       "      <td>Make statement</td>\n",
       "      <td>Afghanistan</td>\n",
       "      <td>2014-03-06</td>\n",
       "    </tr>\n",
       "    <tr>\n",
       "      <th>1</th>\n",
       "      <td>John Kerry</td>\n",
       "      <td>Express intent to meet or negotiate</td>\n",
       "      <td>China</td>\n",
       "      <td>2014-11-04</td>\n",
       "    </tr>\n",
       "    <tr>\n",
       "      <th>2</th>\n",
       "      <td>Japan</td>\n",
       "      <td>Make a visit</td>\n",
       "      <td>Thailand</td>\n",
       "      <td>2014-09-22</td>\n",
       "    </tr>\n",
       "    <tr>\n",
       "      <th>3</th>\n",
       "      <td>Head of Government (Pakistan)</td>\n",
       "      <td>Express intent to meet or negotiate</td>\n",
       "      <td>Tajikistan</td>\n",
       "      <td>2014-06-16</td>\n",
       "    </tr>\n",
       "    <tr>\n",
       "      <th>4</th>\n",
       "      <td>Media Personnel (France)</td>\n",
       "      <td>Make statement</td>\n",
       "      <td>France</td>\n",
       "      <td>2014-03-24</td>\n",
       "    </tr>\n",
       "  </tbody>\n",
       "</table>\n",
       "</div>"
      ],
      "text/plain": [
       "                            head                                  rel  \\\n",
       "0         Ministry (Afghanistan)                       Make statement   \n",
       "1                     John Kerry  Express intent to meet or negotiate   \n",
       "2                          Japan                         Make a visit   \n",
       "3  Head of Government (Pakistan)  Express intent to meet or negotiate   \n",
       "4       Media Personnel (France)                       Make statement   \n",
       "\n",
       "          tail          ts  \n",
       "0  Afghanistan  2014-03-06  \n",
       "1        China  2014-11-04  \n",
       "2     Thailand  2014-09-22  \n",
       "3   Tajikistan  2014-06-16  \n",
       "4       France  2014-03-24  "
      ]
     },
     "execution_count": 4,
     "metadata": {},
     "output_type": "execute_result"
    }
   ],
   "source": [
    "df = pd.read_csv(\"datasets/ICEWS14/test\", header=None, sep=\"\\t\", names=[\"head\", \"rel\", \"tail\", \"ts\"])\n",
    "df.head()"
   ]
  },
  {
   "cell_type": "code",
   "execution_count": 14,
   "metadata": {},
   "outputs": [],
   "source": [
    "ent = list(set(list(df[\"head\"].unique()) + list(df[\"tail\"].unique())))\n",
    "rel = list(set(list(df[\"rel\"].unique())))"
   ]
  }
 ],
 "metadata": {
  "kernelspec": {
   "display_name": "base",
   "language": "python",
   "name": "python3"
  },
  "language_info": {
   "codemirror_mode": {
    "name": "ipython",
    "version": 3
   },
   "file_extension": ".py",
   "mimetype": "text/x-python",
   "name": "python",
   "nbconvert_exporter": "python",
   "pygments_lexer": "ipython3",
   "version": "3.12.1"
  }
 },
 "nbformat": 4,
 "nbformat_minor": 2
}
